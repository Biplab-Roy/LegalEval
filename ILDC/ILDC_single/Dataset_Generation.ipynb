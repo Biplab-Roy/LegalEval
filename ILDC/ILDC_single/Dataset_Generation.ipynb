{
 "cells": [
  {
   "cell_type": "code",
   "execution_count": 24,
   "id": "958fb7c0",
   "metadata": {},
   "outputs": [],
   "source": [
    "import pandas as pd\n",
    "import numpy as np"
   ]
  },
  {
   "cell_type": "code",
   "execution_count": 41,
   "id": "389a4292",
   "metadata": {},
   "outputs": [
    {
     "data": {
      "text/html": [
       "<div>\n",
       "<style scoped>\n",
       "    .dataframe tbody tr th:only-of-type {\n",
       "        vertical-align: middle;\n",
       "    }\n",
       "\n",
       "    .dataframe tbody tr th {\n",
       "        vertical-align: top;\n",
       "    }\n",
       "\n",
       "    .dataframe thead th {\n",
       "        text-align: right;\n",
       "    }\n",
       "</style>\n",
       "<table border=\"1\" class=\"dataframe\">\n",
       "  <thead>\n",
       "    <tr style=\"text-align: right;\">\n",
       "      <th></th>\n",
       "      <th>text</th>\n",
       "      <th>label</th>\n",
       "      <th>split</th>\n",
       "      <th>name</th>\n",
       "    </tr>\n",
       "  </thead>\n",
       "  <tbody>\n",
       "    <tr>\n",
       "      <th>0</th>\n",
       "      <td>F. NARIMAN, J. Leave granted. In 2008, the Pu...</td>\n",
       "      <td>1</td>\n",
       "      <td>train</td>\n",
       "      <td>2019_890.txt</td>\n",
       "    </tr>\n",
       "    <tr>\n",
       "      <th>1</th>\n",
       "      <td>S. THAKUR, J. Leave granted. These appeals ar...</td>\n",
       "      <td>0</td>\n",
       "      <td>train</td>\n",
       "      <td>2014_170.txt</td>\n",
       "    </tr>\n",
       "    <tr>\n",
       "      <th>2</th>\n",
       "      <td>Markandey Katju, J. Leave granted. Heard lear...</td>\n",
       "      <td>1</td>\n",
       "      <td>train</td>\n",
       "      <td>2010_721.txt</td>\n",
       "    </tr>\n",
       "    <tr>\n",
       "      <th>3</th>\n",
       "      <td>ALTAMAS KABIR,J. Leave granted. The question ...</td>\n",
       "      <td>1</td>\n",
       "      <td>train</td>\n",
       "      <td>2008_1460.txt</td>\n",
       "    </tr>\n",
       "    <tr>\n",
       "      <th>4</th>\n",
       "      <td>CIVIL APPEAL NO. 598 OF 2007 K. MATHUR, J. Th...</td>\n",
       "      <td>1</td>\n",
       "      <td>train</td>\n",
       "      <td>2008_188.txt</td>\n",
       "    </tr>\n",
       "    <tr>\n",
       "      <th>5</th>\n",
       "      <td>O R D E R CIVIL APPEAL NOS. 85-86 OF 2002 Thes...</td>\n",
       "      <td>0</td>\n",
       "      <td>train</td>\n",
       "      <td>2008_368.txt</td>\n",
       "    </tr>\n",
       "    <tr>\n",
       "      <th>6</th>\n",
       "      <td>O R D E R Arising out of S.L.P C  No.3358 of ...</td>\n",
       "      <td>1</td>\n",
       "      <td>train</td>\n",
       "      <td>2007_946.txt</td>\n",
       "    </tr>\n",
       "    <tr>\n",
       "      <th>7</th>\n",
       "      <td>SANTOSH HEGDE, J. Noticing certain companytra...</td>\n",
       "      <td>0</td>\n",
       "      <td>train</td>\n",
       "      <td>2005_208.txt</td>\n",
       "    </tr>\n",
       "    <tr>\n",
       "      <th>8</th>\n",
       "      <td>2004  3   SCR 534 WITH W.P.  C  No. 852/91, C...</td>\n",
       "      <td>0</td>\n",
       "      <td>train</td>\n",
       "      <td>2004_246.txt</td>\n",
       "    </tr>\n",
       "    <tr>\n",
       "      <th>9</th>\n",
       "      <td>Arising out SLP  c  No. 16202 of 2003  With ...</td>\n",
       "      <td>1</td>\n",
       "      <td>train</td>\n",
       "      <td>2004_764.txt</td>\n",
       "    </tr>\n",
       "  </tbody>\n",
       "</table>\n",
       "</div>"
      ],
      "text/plain": [
       "                                                text  label  split  \\\n",
       "0   F. NARIMAN, J. Leave granted. In 2008, the Pu...      1  train   \n",
       "1   S. THAKUR, J. Leave granted. These appeals ar...      0  train   \n",
       "2   Markandey Katju, J. Leave granted. Heard lear...      1  train   \n",
       "3   ALTAMAS KABIR,J. Leave granted. The question ...      1  train   \n",
       "4   CIVIL APPEAL NO. 598 OF 2007 K. MATHUR, J. Th...      1  train   \n",
       "5  O R D E R CIVIL APPEAL NOS. 85-86 OF 2002 Thes...      0  train   \n",
       "6   O R D E R Arising out of S.L.P C  No.3358 of ...      1  train   \n",
       "7   SANTOSH HEGDE, J. Noticing certain companytra...      0  train   \n",
       "8   2004  3   SCR 534 WITH W.P.  C  No. 852/91, C...      0  train   \n",
       "9    Arising out SLP  c  No. 16202 of 2003  With ...      1  train   \n",
       "\n",
       "            name  \n",
       "0   2019_890.txt  \n",
       "1   2014_170.txt  \n",
       "2   2010_721.txt  \n",
       "3  2008_1460.txt  \n",
       "4   2008_188.txt  \n",
       "5   2008_368.txt  \n",
       "6   2007_946.txt  \n",
       "7   2005_208.txt  \n",
       "8   2004_246.txt  \n",
       "9   2004_764.txt  "
      ]
     },
     "execution_count": 41,
     "metadata": {},
     "output_type": "execute_result"
    }
   ],
   "source": [
    "dataset = pd.read_csv('ILDC_single.csv')\n",
    "dataset.head(10)"
   ]
  },
  {
   "cell_type": "code",
   "execution_count": 26,
   "id": "32887315",
   "metadata": {},
   "outputs": [
    {
     "name": "stdout",
     "output_type": "stream",
     "text": [
      "Total number of examples: 7593\n",
      "Total number of train examples: 5082\n",
      "Total number of dev examples: 994\n",
      "Total number of test examples: 1517\n"
     ]
    }
   ],
   "source": [
    "print(f\"Total number of examples: {dataset.shape[0]}\")\n",
    "print(f\"Total number of train examples: {dataset[dataset['split']=='train'].shape[0]}\")\n",
    "print(f\"Total number of dev examples: {dataset[dataset['split']=='dev'].shape[0]}\")\n",
    "print(f\"Total number of test examples: {dataset[dataset['split']=='test'].shape[0]}\")"
   ]
  },
  {
   "cell_type": "code",
   "execution_count": 42,
   "id": "2c40dcfa",
   "metadata": {},
   "outputs": [
    {
     "name": "stdout",
     "output_type": "stream",
     "text": [
      "Average length of text: 3883.7713683655998\n"
     ]
    }
   ],
   "source": [
    "print(f\"Average length of text: {np.average([len(line.split(' ')) for line in dataset['text']])}\")"
   ]
  },
  {
   "cell_type": "code",
   "execution_count": 43,
   "id": "d4dfa0f7",
   "metadata": {},
   "outputs": [],
   "source": [
    "def save_file(dataset, split):\n",
    "    dataset = dataset[dataset['split']==split]\n",
    "    dataset_ready = pd.DataFrame({'text' : np.array(dataset['text']), \n",
    "                                'label' : np.array(dataset['label'])})\n",
    "    print(f\"{split} dataset shape {dataset_ready.shape}\")\n",
    "    dataset_ready.to_csv(split + '_dataset.csv', index=False)"
   ]
  },
  {
   "cell_type": "code",
   "execution_count": 44,
   "id": "b6ea594f",
   "metadata": {},
   "outputs": [
    {
     "name": "stdout",
     "output_type": "stream",
     "text": [
      "train dataset shape (5082, 2)\n",
      "dev dataset shape (994, 2)\n",
      "test dataset shape (1517, 2)\n"
     ]
    }
   ],
   "source": [
    "save_file(dataset, 'train')\n",
    "save_file(dataset, 'dev')\n",
    "save_file(dataset, 'test')"
   ]
  },
  {
   "cell_type": "code",
   "execution_count": 45,
   "id": "fbca9571",
   "metadata": {},
   "outputs": [
    {
     "data": {
      "text/html": [
       "<div>\n",
       "<style scoped>\n",
       "    .dataframe tbody tr th:only-of-type {\n",
       "        vertical-align: middle;\n",
       "    }\n",
       "\n",
       "    .dataframe tbody tr th {\n",
       "        vertical-align: top;\n",
       "    }\n",
       "\n",
       "    .dataframe thead th {\n",
       "        text-align: right;\n",
       "    }\n",
       "</style>\n",
       "<table border=\"1\" class=\"dataframe\">\n",
       "  <thead>\n",
       "    <tr style=\"text-align: right;\">\n",
       "      <th></th>\n",
       "      <th>text</th>\n",
       "      <th>label</th>\n",
       "    </tr>\n",
       "  </thead>\n",
       "  <tbody>\n",
       "    <tr>\n",
       "      <th>0</th>\n",
       "      <td>F. NARIMAN, J. Leave granted. In 2008, the Pu...</td>\n",
       "      <td>1</td>\n",
       "    </tr>\n",
       "    <tr>\n",
       "      <th>1</th>\n",
       "      <td>S. THAKUR, J. Leave granted. These appeals ar...</td>\n",
       "      <td>0</td>\n",
       "    </tr>\n",
       "    <tr>\n",
       "      <th>2</th>\n",
       "      <td>Markandey Katju, J. Leave granted. Heard lear...</td>\n",
       "      <td>1</td>\n",
       "    </tr>\n",
       "    <tr>\n",
       "      <th>3</th>\n",
       "      <td>ALTAMAS KABIR,J. Leave granted. The question ...</td>\n",
       "      <td>1</td>\n",
       "    </tr>\n",
       "    <tr>\n",
       "      <th>4</th>\n",
       "      <td>CIVIL APPEAL NO. 598 OF 2007 K. MATHUR, J. Th...</td>\n",
       "      <td>1</td>\n",
       "    </tr>\n",
       "  </tbody>\n",
       "</table>\n",
       "</div>"
      ],
      "text/plain": [
       "                                                text  label\n",
       "0   F. NARIMAN, J. Leave granted. In 2008, the Pu...      1\n",
       "1   S. THAKUR, J. Leave granted. These appeals ar...      0\n",
       "2   Markandey Katju, J. Leave granted. Heard lear...      1\n",
       "3   ALTAMAS KABIR,J. Leave granted. The question ...      1\n",
       "4   CIVIL APPEAL NO. 598 OF 2007 K. MATHUR, J. Th...      1"
      ]
     },
     "execution_count": 45,
     "metadata": {},
     "output_type": "execute_result"
    }
   ],
   "source": [
    "train_dataset = pd.read_csv('train_dataset.csv')\n",
    "train_dataset.head()"
   ]
  },
  {
   "cell_type": "code",
   "execution_count": 46,
   "id": "56ca8e32",
   "metadata": {},
   "outputs": [
    {
     "data": {
      "text/html": [
       "<div>\n",
       "<style scoped>\n",
       "    .dataframe tbody tr th:only-of-type {\n",
       "        vertical-align: middle;\n",
       "    }\n",
       "\n",
       "    .dataframe tbody tr th {\n",
       "        vertical-align: top;\n",
       "    }\n",
       "\n",
       "    .dataframe thead th {\n",
       "        text-align: right;\n",
       "    }\n",
       "</style>\n",
       "<table border=\"1\" class=\"dataframe\">\n",
       "  <thead>\n",
       "    <tr style=\"text-align: right;\">\n",
       "      <th></th>\n",
       "      <th>text</th>\n",
       "      <th>label</th>\n",
       "    </tr>\n",
       "  </thead>\n",
       "  <tbody>\n",
       "    <tr>\n",
       "      <th>0</th>\n",
       "      <td>civil appellate jurisdiction civil appeal numb...</td>\n",
       "      <td>0</td>\n",
       "    </tr>\n",
       "    <tr>\n",
       "      <th>1</th>\n",
       "      <td>civil appellate jurisdiction civil appeal numb...</td>\n",
       "      <td>0</td>\n",
       "    </tr>\n",
       "    <tr>\n",
       "      <th>2</th>\n",
       "      <td>civil appellate jurisdiction civil appeal numb...</td>\n",
       "      <td>1</td>\n",
       "    </tr>\n",
       "    <tr>\n",
       "      <th>3</th>\n",
       "      <td>civil appellate jurisdiction civil appeal numb...</td>\n",
       "      <td>0</td>\n",
       "    </tr>\n",
       "    <tr>\n",
       "      <th>4</th>\n",
       "      <td>original jurisdiction writ petitions number. 8...</td>\n",
       "      <td>0</td>\n",
       "    </tr>\n",
       "  </tbody>\n",
       "</table>\n",
       "</div>"
      ],
      "text/plain": [
       "                                                text  label\n",
       "0  civil appellate jurisdiction civil appeal numb...      0\n",
       "1  civil appellate jurisdiction civil appeal numb...      0\n",
       "2  civil appellate jurisdiction civil appeal numb...      1\n",
       "3  civil appellate jurisdiction civil appeal numb...      0\n",
       "4  original jurisdiction writ petitions number. 8...      0"
      ]
     },
     "execution_count": 46,
     "metadata": {},
     "output_type": "execute_result"
    }
   ],
   "source": [
    "dev_dataset = pd.read_csv('dev_dataset.csv')\n",
    "dev_dataset.head()"
   ]
  },
  {
   "cell_type": "code",
   "execution_count": 47,
   "id": "01dfde96",
   "metadata": {},
   "outputs": [
    {
     "data": {
      "text/html": [
       "<div>\n",
       "<style scoped>\n",
       "    .dataframe tbody tr th:only-of-type {\n",
       "        vertical-align: middle;\n",
       "    }\n",
       "\n",
       "    .dataframe tbody tr th {\n",
       "        vertical-align: top;\n",
       "    }\n",
       "\n",
       "    .dataframe thead th {\n",
       "        text-align: right;\n",
       "    }\n",
       "</style>\n",
       "<table border=\"1\" class=\"dataframe\">\n",
       "  <thead>\n",
       "    <tr style=\"text-align: right;\">\n",
       "      <th></th>\n",
       "      <th>text</th>\n",
       "      <th>label</th>\n",
       "    </tr>\n",
       "  </thead>\n",
       "  <tbody>\n",
       "    <tr>\n",
       "      <th>0</th>\n",
       "      <td>civil appellate jurisdiction civil appeal numb...</td>\n",
       "      <td>1</td>\n",
       "    </tr>\n",
       "    <tr>\n",
       "      <th>1</th>\n",
       "      <td>criminal appellate jurisdiction special leave ...</td>\n",
       "      <td>0</td>\n",
       "    </tr>\n",
       "    <tr>\n",
       "      <th>2</th>\n",
       "      <td>criminal appellate jurisdiction criminal appea...</td>\n",
       "      <td>0</td>\n",
       "    </tr>\n",
       "    <tr>\n",
       "      <th>3</th>\n",
       "      <td>civil appellate jurisdiction civil appeal numb...</td>\n",
       "      <td>0</td>\n",
       "    </tr>\n",
       "    <tr>\n",
       "      <th>4</th>\n",
       "      <td>civil appellate jurisdiction civil appeal numb...</td>\n",
       "      <td>1</td>\n",
       "    </tr>\n",
       "  </tbody>\n",
       "</table>\n",
       "</div>"
      ],
      "text/plain": [
       "                                                text  label\n",
       "0  civil appellate jurisdiction civil appeal numb...      1\n",
       "1  criminal appellate jurisdiction special leave ...      0\n",
       "2  criminal appellate jurisdiction criminal appea...      0\n",
       "3  civil appellate jurisdiction civil appeal numb...      0\n",
       "4  civil appellate jurisdiction civil appeal numb...      1"
      ]
     },
     "execution_count": 47,
     "metadata": {},
     "output_type": "execute_result"
    }
   ],
   "source": [
    "test_dataset = pd.read_csv('test_dataset.csv')\n",
    "test_dataset.head()"
   ]
  },
  {
   "cell_type": "code",
   "execution_count": 48,
   "id": "39526d92",
   "metadata": {},
   "outputs": [
    {
     "data": {
      "text/plain": [
       "(994, 2)"
      ]
     },
     "execution_count": 48,
     "metadata": {},
     "output_type": "execute_result"
    }
   ],
   "source": [
    "dev_dataset.shape"
   ]
  },
  {
   "cell_type": "code",
   "execution_count": 49,
   "id": "a9cf84d8",
   "metadata": {},
   "outputs": [
    {
     "data": {
      "text/plain": [
       "(1517, 2)"
      ]
     },
     "execution_count": 49,
     "metadata": {},
     "output_type": "execute_result"
    }
   ],
   "source": [
    "test_dataset.shape"
   ]
  },
  {
   "cell_type": "code",
   "execution_count": null,
   "id": "b1c177ae",
   "metadata": {},
   "outputs": [],
   "source": []
  }
 ],
 "metadata": {
  "kernelspec": {
   "display_name": "Python 3 (ipykernel)",
   "language": "python",
   "name": "python3"
  },
  "language_info": {
   "codemirror_mode": {
    "name": "ipython",
    "version": 3
   },
   "file_extension": ".py",
   "mimetype": "text/x-python",
   "name": "python",
   "nbconvert_exporter": "python",
   "pygments_lexer": "ipython3",
   "version": "3.9.13"
  }
 },
 "nbformat": 4,
 "nbformat_minor": 5
}
